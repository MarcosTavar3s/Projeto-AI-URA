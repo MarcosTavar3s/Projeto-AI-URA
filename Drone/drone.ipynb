from djitellopy import Tello
from ultralytics import YOLO
import cv2
import numpy as np
import cv2
import torch
import time

model = YOLO('YOLO Treinado/runs/detect/train3/weights/best.pt')

tello = Tello()
tello.connect()
        
battery_level = tello.get_battery()

print(f'Nível:{battery_level}')
