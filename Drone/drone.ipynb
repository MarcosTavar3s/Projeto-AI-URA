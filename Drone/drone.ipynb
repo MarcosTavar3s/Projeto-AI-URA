{
 "cells": [
  {
   "cell_type": "code",
   "execution_count": 36,
   "metadata": {},
   "outputs": [
    {
     "name": "stdout",
     "output_type": "stream",
     "text": [
      "Requirement already satisfied: djitellopy in c:\\users\\marco\\anaconda3\\lib\\site-packages (2.5.0)\n",
      "Requirement already satisfied: numpy in c:\\users\\marco\\anaconda3\\lib\\site-packages (from djitellopy) (1.26.4)\n",
      "Requirement already satisfied: opencv-python in c:\\users\\marco\\anaconda3\\lib\\site-packages (from djitellopy) (4.10.0.84)\n",
      "Requirement already satisfied: av in c:\\users\\marco\\anaconda3\\lib\\site-packages (from djitellopy) (12.3.0)\n",
      "Requirement already satisfied: pillow in c:\\users\\marco\\anaconda3\\lib\\site-packages (from djitellopy) (10.2.0)\n"
     ]
    }
   ],
   "source": [
    "!pip install djitellopy"
   ]
  },
  {
   "cell_type": "code",
   "execution_count": 37,
   "metadata": {},
   "outputs": [
    {
     "name": "stdout",
     "output_type": "stream",
     "text": [
      "Requirement already satisfied: djitellopy in c:\\users\\marco\\anaconda3\\lib\\site-packages (2.5.0)\n",
      "Requirement already satisfied: numpy in c:\\users\\marco\\anaconda3\\lib\\site-packages (from djitellopy) (1.26.4)\n",
      "Requirement already satisfied: opencv-python in c:\\users\\marco\\anaconda3\\lib\\site-packages (from djitellopy) (4.10.0.84)\n",
      "Requirement already satisfied: av in c:\\users\\marco\\anaconda3\\lib\\site-packages (from djitellopy) (12.3.0)\n",
      "Requirement already satisfied: pillow in c:\\users\\marco\\anaconda3\\lib\\site-packages (from djitellopy) (10.2.0)\n"
     ]
    }
   ],
   "source": [
    "\n",
    "!pip install --upgrade djitellopy"
   ]
  },
  {
   "cell_type": "markdown",
   "metadata": {},
   "source": [
    "# Testes iniciais"
   ]
  },
  {
   "cell_type": "code",
   "execution_count": 38,
   "metadata": {},
   "outputs": [
    {
     "name": "stderr",
     "output_type": "stream",
     "text": [
      "[INFO] tello.py - 129 - Tello instance was initialized. Host: '192.168.10.1'. Port: '8889'.\n",
      "[INFO] tello.py - 438 - Send command: 'command'\n"
     ]
    },
    {
     "ename": "KeyError",
     "evalue": "'192.168.10.1'",
     "output_type": "error",
     "traceback": [
      "\u001b[1;31m---------------------------------------------------------------------------\u001b[0m",
      "\u001b[1;31mKeyError\u001b[0m                                  Traceback (most recent call last)",
      "Cell \u001b[1;32mIn[38], line 6\u001b[0m\n\u001b[0;32m      2\u001b[0m \u001b[38;5;28;01mimport\u001b[39;00m \u001b[38;5;21;01mtime\u001b[39;00m\n\u001b[0;32m      4\u001b[0m tello \u001b[38;5;241m=\u001b[39m Tello()\n\u001b[1;32m----> 6\u001b[0m tello\u001b[38;5;241m.\u001b[39mconnect()\n\u001b[0;32m      7\u001b[0m time\u001b[38;5;241m.\u001b[39msleep(\u001b[38;5;241m5\u001b[39m)\n\u001b[0;32m      9\u001b[0m success \u001b[38;5;241m=\u001b[39m \u001b[38;5;28;01mFalse\u001b[39;00m\n",
      "File \u001b[1;32mc:\\Users\\marco\\anaconda3\\Lib\\site-packages\\djitellopy\\enforce_types.py:54\u001b[0m, in \u001b[0;36menforce_types.<locals>.decorate.<locals>.wrapper\u001b[1;34m(*args, **kwargs)\u001b[0m\n\u001b[0;32m     51\u001b[0m \u001b[38;5;129m@wraps\u001b[39m(func)\n\u001b[0;32m     52\u001b[0m \u001b[38;5;28;01mdef\u001b[39;00m \u001b[38;5;21mwrapper\u001b[39m(\u001b[38;5;241m*\u001b[39margs, \u001b[38;5;241m*\u001b[39m\u001b[38;5;241m*\u001b[39mkwargs):\n\u001b[0;32m     53\u001b[0m     check_types(spec, \u001b[38;5;241m*\u001b[39margs, \u001b[38;5;241m*\u001b[39m\u001b[38;5;241m*\u001b[39mkwargs)\n\u001b[1;32m---> 54\u001b[0m     \u001b[38;5;28;01mreturn\u001b[39;00m func(\u001b[38;5;241m*\u001b[39margs, \u001b[38;5;241m*\u001b[39m\u001b[38;5;241m*\u001b[39mkwargs)\n",
      "File \u001b[1;32mc:\\Users\\marco\\anaconda3\\Lib\\site-packages\\djitellopy\\tello.py:535\u001b[0m, in \u001b[0;36mTello.connect\u001b[1;34m(self, wait_for_state)\u001b[0m\n\u001b[0;32m    532\u001b[0m \u001b[38;5;28;01mdef\u001b[39;00m \u001b[38;5;21mconnect\u001b[39m(\u001b[38;5;28mself\u001b[39m, wait_for_state\u001b[38;5;241m=\u001b[39m\u001b[38;5;28;01mTrue\u001b[39;00m):\n\u001b[0;32m    533\u001b[0m \u001b[38;5;250m    \u001b[39m\u001b[38;5;124;03m\"\"\"Enter SDK mode. Call this before any of the control functions.\u001b[39;00m\n\u001b[0;32m    534\u001b[0m \u001b[38;5;124;03m    \"\"\"\u001b[39;00m\n\u001b[1;32m--> 535\u001b[0m     \u001b[38;5;28mself\u001b[39m\u001b[38;5;241m.\u001b[39msend_control_command(\u001b[38;5;124m\"\u001b[39m\u001b[38;5;124mcommand\u001b[39m\u001b[38;5;124m\"\u001b[39m)\n\u001b[0;32m    537\u001b[0m     \u001b[38;5;28;01mif\u001b[39;00m wait_for_state:\n\u001b[0;32m    538\u001b[0m         REPS \u001b[38;5;241m=\u001b[39m \u001b[38;5;241m20\u001b[39m\n",
      "File \u001b[1;32mc:\\Users\\marco\\anaconda3\\Lib\\site-packages\\djitellopy\\enforce_types.py:54\u001b[0m, in \u001b[0;36menforce_types.<locals>.decorate.<locals>.wrapper\u001b[1;34m(*args, **kwargs)\u001b[0m\n\u001b[0;32m     51\u001b[0m \u001b[38;5;129m@wraps\u001b[39m(func)\n\u001b[0;32m     52\u001b[0m \u001b[38;5;28;01mdef\u001b[39;00m \u001b[38;5;21mwrapper\u001b[39m(\u001b[38;5;241m*\u001b[39margs, \u001b[38;5;241m*\u001b[39m\u001b[38;5;241m*\u001b[39mkwargs):\n\u001b[0;32m     53\u001b[0m     check_types(spec, \u001b[38;5;241m*\u001b[39margs, \u001b[38;5;241m*\u001b[39m\u001b[38;5;241m*\u001b[39mkwargs)\n\u001b[1;32m---> 54\u001b[0m     \u001b[38;5;28;01mreturn\u001b[39;00m func(\u001b[38;5;241m*\u001b[39margs, \u001b[38;5;241m*\u001b[39m\u001b[38;5;241m*\u001b[39mkwargs)\n",
      "File \u001b[1;32mc:\\Users\\marco\\anaconda3\\Lib\\site-packages\\djitellopy\\tello.py:480\u001b[0m, in \u001b[0;36mTello.send_control_command\u001b[1;34m(self, command, timeout)\u001b[0m\n\u001b[0;32m    478\u001b[0m response \u001b[38;5;241m=\u001b[39m \u001b[38;5;124m\"\u001b[39m\u001b[38;5;124mmax retries exceeded\u001b[39m\u001b[38;5;124m\"\u001b[39m\n\u001b[0;32m    479\u001b[0m \u001b[38;5;28;01mfor\u001b[39;00m i \u001b[38;5;129;01min\u001b[39;00m \u001b[38;5;28mrange\u001b[39m(\u001b[38;5;241m0\u001b[39m, \u001b[38;5;28mself\u001b[39m\u001b[38;5;241m.\u001b[39mretry_count):\n\u001b[1;32m--> 480\u001b[0m     response \u001b[38;5;241m=\u001b[39m \u001b[38;5;28mself\u001b[39m\u001b[38;5;241m.\u001b[39msend_command_with_return(command, timeout\u001b[38;5;241m=\u001b[39mtimeout)\n\u001b[0;32m    482\u001b[0m     \u001b[38;5;28;01mif\u001b[39;00m \u001b[38;5;124m'\u001b[39m\u001b[38;5;124mok\u001b[39m\u001b[38;5;124m'\u001b[39m \u001b[38;5;129;01min\u001b[39;00m response\u001b[38;5;241m.\u001b[39mlower():\n\u001b[0;32m    483\u001b[0m         \u001b[38;5;28;01mreturn\u001b[39;00m \u001b[38;5;28;01mTrue\u001b[39;00m\n",
      "File \u001b[1;32mc:\\Users\\marco\\anaconda3\\Lib\\site-packages\\djitellopy\\enforce_types.py:54\u001b[0m, in \u001b[0;36menforce_types.<locals>.decorate.<locals>.wrapper\u001b[1;34m(*args, **kwargs)\u001b[0m\n\u001b[0;32m     51\u001b[0m \u001b[38;5;129m@wraps\u001b[39m(func)\n\u001b[0;32m     52\u001b[0m \u001b[38;5;28;01mdef\u001b[39;00m \u001b[38;5;21mwrapper\u001b[39m(\u001b[38;5;241m*\u001b[39margs, \u001b[38;5;241m*\u001b[39m\u001b[38;5;241m*\u001b[39mkwargs):\n\u001b[0;32m     53\u001b[0m     check_types(spec, \u001b[38;5;241m*\u001b[39margs, \u001b[38;5;241m*\u001b[39m\u001b[38;5;241m*\u001b[39mkwargs)\n\u001b[1;32m---> 54\u001b[0m     \u001b[38;5;28;01mreturn\u001b[39;00m func(\u001b[38;5;241m*\u001b[39margs, \u001b[38;5;241m*\u001b[39m\u001b[38;5;241m*\u001b[39mkwargs)\n",
      "File \u001b[1;32mc:\\Users\\marco\\anaconda3\\Lib\\site-packages\\djitellopy\\tello.py:443\u001b[0m, in \u001b[0;36mTello.send_command_with_return\u001b[1;34m(self, command, timeout)\u001b[0m\n\u001b[0;32m    439\u001b[0m timestamp \u001b[38;5;241m=\u001b[39m time\u001b[38;5;241m.\u001b[39mtime()\n\u001b[0;32m    441\u001b[0m client_socket\u001b[38;5;241m.\u001b[39msendto(command\u001b[38;5;241m.\u001b[39mencode(\u001b[38;5;124m'\u001b[39m\u001b[38;5;124mutf-8\u001b[39m\u001b[38;5;124m'\u001b[39m), \u001b[38;5;28mself\u001b[39m\u001b[38;5;241m.\u001b[39maddress)\n\u001b[1;32m--> 443\u001b[0m responses \u001b[38;5;241m=\u001b[39m \u001b[38;5;28mself\u001b[39m\u001b[38;5;241m.\u001b[39mget_own_udp_object()[\u001b[38;5;124m'\u001b[39m\u001b[38;5;124mresponses\u001b[39m\u001b[38;5;124m'\u001b[39m]\n\u001b[0;32m    445\u001b[0m \u001b[38;5;28;01mwhile\u001b[39;00m \u001b[38;5;129;01mnot\u001b[39;00m responses:\n\u001b[0;32m    446\u001b[0m     \u001b[38;5;28;01mif\u001b[39;00m time\u001b[38;5;241m.\u001b[39mtime() \u001b[38;5;241m-\u001b[39m timestamp \u001b[38;5;241m>\u001b[39m timeout:\n",
      "File \u001b[1;32mc:\\Users\\marco\\anaconda3\\Lib\\site-packages\\djitellopy\\enforce_types.py:54\u001b[0m, in \u001b[0;36menforce_types.<locals>.decorate.<locals>.wrapper\u001b[1;34m(*args, **kwargs)\u001b[0m\n\u001b[0;32m     51\u001b[0m \u001b[38;5;129m@wraps\u001b[39m(func)\n\u001b[0;32m     52\u001b[0m \u001b[38;5;28;01mdef\u001b[39;00m \u001b[38;5;21mwrapper\u001b[39m(\u001b[38;5;241m*\u001b[39margs, \u001b[38;5;241m*\u001b[39m\u001b[38;5;241m*\u001b[39mkwargs):\n\u001b[0;32m     53\u001b[0m     check_types(spec, \u001b[38;5;241m*\u001b[39margs, \u001b[38;5;241m*\u001b[39m\u001b[38;5;241m*\u001b[39mkwargs)\n\u001b[1;32m---> 54\u001b[0m     \u001b[38;5;28;01mreturn\u001b[39;00m func(\u001b[38;5;241m*\u001b[39margs, \u001b[38;5;241m*\u001b[39m\u001b[38;5;241m*\u001b[39mkwargs)\n",
      "File \u001b[1;32mc:\\Users\\marco\\anaconda3\\Lib\\site-packages\\djitellopy\\tello.py:148\u001b[0m, in \u001b[0;36mTello.get_own_udp_object\u001b[1;34m(self)\u001b[0m\n\u001b[0;32m    145\u001b[0m \u001b[38;5;28;01mglobal\u001b[39;00m drones\n\u001b[0;32m    147\u001b[0m host \u001b[38;5;241m=\u001b[39m \u001b[38;5;28mself\u001b[39m\u001b[38;5;241m.\u001b[39maddress[\u001b[38;5;241m0\u001b[39m]\n\u001b[1;32m--> 148\u001b[0m \u001b[38;5;28;01mreturn\u001b[39;00m drones[host]\n",
      "\u001b[1;31mKeyError\u001b[0m: '192.168.10.1'"
     ]
    }
   ],
   "source": [
    "from djitellopy import Tello\n",
    "import time\n",
    "\n",
    "tello = Tello()\n",
    "\n",
    "tello.connect()\n",
    "time.sleep(5)\n",
    "\n",
    "success = False\n",
    "attempts = 0\n",
    "max_attempts = 3\n",
    "\n",
    "\n",
    "while not success and attempts < max_attempts:\n",
    "    try:\n",
    "        tello.takeoff()\n",
    "        success = True \n",
    "    except Exception as e:\n",
    "        print(f\"Attempt {attempts + 1} failed: {e}\")\n",
    "        attempts += 1\n",
    "        time.sleep(2)  # Espera 2 segundos antes de tentar novamente\n",
    "\n",
    "\n",
    "tello.move_forward(20)\n",
    "tello.move_up(30)\n",
    "tello.flip_back()\n",
    "\n",
    "tello.land()"
   ]
  },
  {
   "cell_type": "code",
   "execution_count": null,
   "metadata": {},
   "outputs": [],
   "source": [
    "from djitellopy import Tello\n",
    "import cv2, math, time\n",
    "\n",
    "tello = Tello()\n",
    "tello.connect()\n",
    "\n",
    "battery_level = tello.get_battery()\n",
    "print(f'Nível:{battery_level}')\n",
    "\n",
    "tello.streamon()\n",
    "time.sleep(2)\n",
    "\n",
    "frame_read = tello.get_frame_read()   \n",
    "time.sleep(5)\n",
    "\n",
    "success = False\n",
    "attempts = 0\n",
    "max_attempts = 3\n",
    "\n",
    "\n",
    "while not success and attempts < max_attempts:\n",
    "    try:\n",
    "        tello.takeoff()\n",
    "        success = True \n",
    "    except Exception as e:\n",
    "        print(f\"Attempt {attempts + 1} failed: {e}\")\n",
    "        attempts += 1\n",
    "        time.sleep(2)  # Espera 2 segundos antes de tentar novamente\n",
    "\n",
    "\n",
    "while True:\n",
    "    img = frame_read.frame\n",
    "    cv2.imshow(\"drone\", img)\n",
    "\n",
    "    key = cv2.waitKey(1) & 0xff\n",
    "    if key == 27: # ESC        \n",
    "        cv2.destroyAllWindows()\n",
    "        tello.streamoff()\n",
    "        break\n",
    "    elif key == ord('w'):\n",
    "        tello.move_forward(30)\n",
    "    elif key == ord('s'):\n",
    "        tello.move_back(30)\n",
    "    elif key == ord('a'):\n",
    "        tello.flip_back()\n",
    "    elif key == ord('d'):\n",
    "        tello.flip_forward()\n",
    "    elif key == ord('e'):\n",
    "        tello.rotate_clockwise(30)\n",
    "    elif key == ord('q'):\n",
    "        tello.rotate_counter_clockwise(30)\n",
    "    elif key == ord('r'):\n",
    "        tello.move_up(30)\n",
    "    elif key == ord('f'):\n",
    "        tello.move_down(30)\n",
    "\n",
    "tello.land()"
   ]
  },
  {
   "cell_type": "code",
   "execution_count": null,
   "metadata": {},
   "outputs": [],
   "source": [
    "import cv2\n",
    "from djitellopy import Tello\n",
    "\n",
    "tello = Tello()\n",
    "tello.connect()\n",
    "\n",
    "tello.streamon()\n",
    "frame_read = tello.get_frame_read()\n",
    "\n",
    "cv2.imwrite(\"picture.png\", frame_read.frame)\n",
    "\n",
    "tello.streamoff()\n",
    "# tello.land()"
   ]
  },
  {
   "cell_type": "code",
   "execution_count": null,
   "metadata": {},
   "outputs": [],
   "source": [
    "from djitellopy import Tello\n",
    "import cv2\n",
    "import threading\n",
    "\n",
    "# Conecta ao drone\n",
    "tello = Tello()\n",
    "tello.connect()\n",
    "\n",
    "# Inicia o stream de vídeo\n",
    "tello.streamon()\n",
    "frame_read = tello.get_frame_read()\n",
    "\n",
    "\n",
    "time.sleep(5)\n",
    "\n",
    "success = False\n",
    "attempts = 0\n",
    "max_attempts = 3\n",
    "\n",
    "\n",
    "while not success and attempts < max_attempts:\n",
    "    try:\n",
    "        tello.takeoff()\n",
    "        success = True \n",
    "    except Exception as e:\n",
    "        print(f\"Attempt {attempts + 1} failed: {e}\")\n",
    "        attempts += 1\n",
    "        time.sleep(2)  # Espera 2 segundos antes de tentar novamente\n",
    "\n",
    "\n",
    "# Função para exibir o vídeo em uma thread separada\n",
    "def video_display():\n",
    "    while True:\n",
    "        img = frame_read.frame\n",
    "        cv2.imshow(\"drone\", img)\n",
    "        if cv2.waitKey(1) & 0xff == 27:  # ESC\n",
    "            break\n",
    "    cv2.destroyAllWindows()\n",
    "\n",
    "# Função para controlar o drone em uma thread separada\n",
    "def control_drone():\n",
    "    while True:\n",
    "        key = cv2.waitKey(1) & 0xff\n",
    "        if key == ord('w'):\n",
    "            tello.move_forward(30)\n",
    "        elif key == ord('s'):\n",
    "            tello.move_back(30)\n",
    "        elif key == ord('e'):\n",
    "            tello.rotate_clockwise(30)\n",
    "        elif key == ord('q'):\n",
    "            tello.rotate_counter_clockwise(30)\n",
    "        elif key == ord('r'):\n",
    "            tello.move_up(30)\n",
    "        elif key == ord('f'):\n",
    "            tello.move_down(30)\n",
    "        elif key == 27:  # ESC\n",
    "            tello.land()\n",
    "            break\n",
    "        else: \n",
    "\n",
    "# Cria e inicia as threads\n",
    "video_thread = threading.Thread(target=video_display)\n",
    "control_thread = threading.Thread(target=control_drone)\n",
    "\n",
    "video_thread.start()\n",
    "control_thread.start()\n",
    "\n",
    "# Aguarda as threads terminarem\n",
    "video_thread.join()\n",
    "control_thread.join()\n",
    "\n",
    "# Pousa o drone e encerra\n",
    "tello.land()\n"
   ]
  },
  {
   "cell_type": "code",
   "execution_count": 8,
   "metadata": {},
   "outputs": [],
   "source": [
    "import cv2\n",
    "\n",
    "# Ajusta os canais das cores captadas pelo drone\n",
    "imagem = cv2.imread('Captura.png')\n",
    "\n",
    "(b,g,r) = cv2.split(imagem)\n",
    "\n",
    "\n",
    "rgb = cv2.merge([r, g, b])\n",
    "\n",
    "cv2.imshow('rgb', rgb)\n",
    "\n",
    "\n",
    "cv2.waitKey()\n",
    "cv2.destroyAllWindows()"
   ]
  },
  {
   "cell_type": "code",
   "execution_count": null,
   "metadata": {},
   "outputs": [],
   "source": [
    "from djitellopy import Tello\n",
    "import time\n",
    "\n",
    "# Cria a instância do drone\n",
    "tello = Tello()\n",
    "\n",
    "# Conecta ao drone\n",
    "tello.connect()\n",
    "\n",
    "# Verifica o nível da bateria (opcional)\n",
    "print(f\"Bateria: {tello.get_battery()}%\")\n",
    "\n",
    "# Decola o drone\n",
    "tello.takeoff()\n",
    "\n",
    "# Inclina o drone para frente (pitch forward) com velocidade 30\n",
    "tello.send_rc_control(0, 30, 0, 0)  # (roll, pitch, throttle, yaw)\n",
    "time.sleep(2)  # Mantém o movimento por 2 segundos\n",
    "\n",
    "# Para o movimento\n",
    "tello.send_rc_control(0, 0, 0, 0)\n",
    "time.sleep(1)\n",
    "\n",
    "# Inclina para a esquerda (roll) com velocidade 30\n",
    "tello.send_rc_control(-30, 0, 0, 0)\n",
    "time.sleep(2)\n",
    "\n",
    "# Para o movimento\n",
    "tello.send_rc_control(0, 0, 0, 0)\n",
    "time.sleep(1)\n",
    "\n",
    "# Aterrissa o drone\n",
    "tello.land()\n",
    "\n",
    "# Fecha a conexão\n",
    "tello.end()"
   ]
  },
  {
   "cell_type": "markdown",
   "metadata": {},
   "source": [
    "# Código"
   ]
  },
  {
   "cell_type": "code",
   "execution_count": 12,
   "metadata": {},
   "outputs": [
    {
     "name": "stderr",
     "output_type": "stream",
     "text": [
      "[INFO] tello.py - 129 - Tello instance was initialized. Host: '192.168.10.1'. Port: '8889'.\n",
      "[INFO] tello.py - 438 - Send command: 'command'\n",
      "[INFO] tello.py - 462 - Response command: 'ok'\n"
     ]
    },
    {
     "name": "stdout",
     "output_type": "stream",
     "text": [
      "Nível:93\n"
     ]
    }
   ],
   "source": [
    "from djitellopy import Tello\n",
    "from ultralytics import YOLO\n",
    "import cv2\n",
    "import numpy as np\n",
    "import cv2\n",
    "import torch\n",
    "import time\n",
    "\n",
    "model = YOLO('YOLO Treinado/runs/detect/train3/weights/best.pt')\n",
    "\n",
    "tello = Tello()\n",
    "tello.connect()\n",
    "        \n",
    "battery_level = tello.get_battery()\n",
    "\n",
    "print(f'Nível:{battery_level}')"
   ]
  },
  {
   "cell_type": "code",
   "execution_count": 14,
   "metadata": {},
   "outputs": [
    {
     "name": "stderr",
     "output_type": "stream",
     "text": [
      "error while decoding MB 34 31, bytestream -9\n"
     ]
    }
   ],
   "source": [
    "def idYolo(img, height, width):\n",
    "    \n",
    "    # Variáveis dos retângulos de referência\n",
    "    bwRect1 = int(0.3*width)\n",
    "    ewRect1 = int(0.7*width)\n",
    "    bhRect2 = int(0.3*height)\n",
    "    ehRect2 = int(0.7*height)\n",
    "    \n",
    "    result = model(img)\n",
    "    img = result[0].plot()\n",
    "\n",
    "\n",
    "    # Desenho dos retângulos na tela - referência    \n",
    "    cv2.rectangle(img, (bwRect1, 0), (ewRect1, height), (0,255,0), 2)    \n",
    "    cv2.rectangle(img, (0, bhRect2), (width, ehRect2), (0,255,0), 2) \n",
    "    \n",
    "\n",
    "    if not len(result[0].boxes.xywh):\n",
    "        print('Bolas não detectadas')\n",
    "    \n",
    "    else:\n",
    "        # Quantidade de bounding boxes detectadas == Quantidade de objetos detectados\n",
    "        size = len(result[0].boxes.xywh)\n",
    "        \n",
    "        boxesxywh = result[0].boxes.xywh\n",
    "        print(result[0].boxes.conf)    \n",
    "        \n",
    "        # Confiabilidade da previsão\n",
    "        conf = result[0].boxes.conf\n",
    "        \n",
    "        # Bola com maior confiabilidade \n",
    "        i = torch.argmax(conf)       \n",
    "        \n",
    "        # Coordenadas da bola com maior confiabilidade\n",
    "        x,y,w,h = boxesxywh[i]\n",
    "        cv2.putText(img, str(h.item()), (10,50), cv2.FONT_HERSHEY_COMPLEX_SMALL, 1, (0,255,0), 2)\n",
    "        \n",
    "        # if h.item() < 50: ##COLOCAR PARAMETRO ADEQUADO DE DISTANCIA (D_mínima)\n",
    "         #     tello.send_rc_control(0,0,0,0)\n",
    "        #     cv2.putText(img, 'bolinha identificada - distancia minima atingida', (10,30), cv2.FONT_HERSHEY_COMPLEX_SMALL, 1, (0,255,0), 2)\n",
    "        # else:\n",
    "        if x > bwRect1 and x < ewRect1 and y > bhRect2 and y < ehRect2:\n",
    "                cv2.putText(img, 'centro', (10,30), cv2.FONT_HERSHEY_COMPLEX_SMALL, 1, (0,255,0), 2)\n",
    "                tello.move_forward(20)\n",
    "        elif x < bwRect1 and y > bhRect2 and y < ehRect2:\n",
    "                cv2.putText(img, 'esquerda - centro', (10,30), cv2.FONT_HERSHEY_COMPLEX_SMALL, 1, (0,255,0), 2)\n",
    "                tello.rotate_counter_clockwise(15)\n",
    "        elif x > ewRect1 and y > bhRect2 and y < ehRect2:\n",
    "                cv2.putText(img, 'direita - centro', (10,30), cv2.FONT_HERSHEY_COMPLEX_SMALL, 1, (0,255,0), 2)\n",
    "                tello.rotate_clockwise(15)\n",
    "        elif x > bwRect1 and x < ewRect1 and y < bhRect2:\n",
    "                cv2.putText(img, 'em cima - centro', (10,30), cv2.FONT_HERSHEY_COMPLEX_SMALL, 1, (0,255,0), 2)\n",
    "                tello.move_up(20)\n",
    "        elif x > bwRect1 and x < ewRect1 and y > ehRect2:\n",
    "                cv2.putText(img, 'embaixo - centro', (10,30), cv2.FONT_HERSHEY_COMPLEX_SMALL, 1, (0,255,0), 2)\n",
    "                tello.move_down(20)\n",
    "        elif x < bwRect1 and y < bhRect2: \n",
    "                cv2.putText(img, 'em cima - esquerda', (10,30), cv2.FONT_HERSHEY_COMPLEX_SMALL, 1, (0,255,0), 2)\n",
    "                tello.move_up(20)\n",
    "                tello.rotate_counter_clockwise(15)         \n",
    "        elif x < bwRect1 and y > ehRect2: \n",
    "                cv2.putText(img, 'embaixo - esquerda', (10,30), cv2.FONT_HERSHEY_COMPLEX_SMALL, 1, (0,255,0), 2)\n",
    "                tello.move_up()\n",
    "                tello.rotate_counter_clockwise(15)\n",
    "        elif x > ewRect1 and y < bhRect2: \n",
    "                cv2.putText(img, 'em cima - direita', (10,30), cv2.FONT_HERSHEY_COMPLEX_SMALL, 1, (0,255,0), 2)\n",
    "                tello.move_up(20)\n",
    "                tello.rotate_clockwise(15)            \n",
    "        elif x > ewRect1 and y > ehRect2: \n",
    "                cv2.putText(img, 'embaixo - direita', (10,30), cv2.FONT_HERSHEY_COMPLEX_SMALL, 1, (0,255,0), 2)\n",
    "                tello.move_down(20)\n",
    "                tello.rotate_clockwise(15)\n",
    "                \n",
    "\n",
    "        \n",
    "        # Centro de massa da bolinha\n",
    "        cv2.rectangle(img, (int(x),int(y)), (int(x),int(y)), (0,255,255),3)\n",
    "        \n",
    "        # Vetor de direção em relação ao centro da imagem\n",
    "        cv2.arrowedLine(img, (int(width/2),int(height/2)), (int(x),int(y)), (255,0,0), 2)\n",
    "    \n",
    "    return img            \n",
    "        "
   ]
  },
  {
   "cell_type": "code",
   "execution_count": 15,
   "metadata": {},
   "outputs": [
    {
     "name": "stderr",
     "output_type": "stream",
     "text": [
      "[INFO] tello.py - 438 - Send command: 'streamon'\n",
      "[INFO] tello.py - 462 - Response streamon: 'ok'\n",
      "left block unavailable for requested intra mode\n",
      "error while decoding MB 0 24, bytestream 336\n",
      "[INFO] tello.py - 438 - Send command: 'takeoff'\n",
      "left block unavailable for requested intra mode\n",
      "error while decoding MB 0 25, bytestream 813\n",
      "left block unavailable for requested intra mode\n",
      "error while decoding MB 0 6, bytestream 4626\n",
      "left block unavailable for requested intra4x4 mode -1\n",
      "error while decoding MB 0 17, bytestream 3728\n",
      "left block unavailable for requested intra mode\n",
      "error while decoding MB 0 14, bytestream 3916\n",
      "error while decoding MB 30 35, bytestream -6\n",
      "[INFO] tello.py - 462 - Response takeoff: 'ok'\n",
      "bind failed: Error number -10048 occurred\n"
     ]
    },
    {
     "ename": "OSError",
     "evalue": "[Errno 10038] Error number -10038 occurred: 'udp://@0.0.0.0:11111'; last error log: [udp] bind failed: Error number -10048 occurred",
     "output_type": "error",
     "traceback": [
      "\u001b[1;31m---------------------------------------------------------------------------\u001b[0m",
      "\u001b[1;31mOSError\u001b[0m                                   Traceback (most recent call last)",
      "Cell \u001b[1;32mIn[15], line 6\u001b[0m\n\u001b[0;32m      3\u001b[0m time\u001b[38;5;241m.\u001b[39msleep(\u001b[38;5;241m2\u001b[39m)\n\u001b[0;32m      5\u001b[0m tello\u001b[38;5;241m.\u001b[39mtakeoff()\n\u001b[1;32m----> 6\u001b[0m frame_read \u001b[38;5;241m=\u001b[39m tello\u001b[38;5;241m.\u001b[39mget_frame_read()\n\u001b[0;32m      8\u001b[0m \u001b[38;5;28;01mwhile\u001b[39;00m \u001b[38;5;28;01mTrue\u001b[39;00m:\n\u001b[0;32m      9\u001b[0m     tello\u001b[38;5;241m.\u001b[39msend_rc_control(\u001b[38;5;241m0\u001b[39m,\u001b[38;5;241m0\u001b[39m,\u001b[38;5;241m0\u001b[39m,\u001b[38;5;241m0\u001b[39m)\n",
      "File \u001b[1;32mc:\\Users\\marco\\anaconda3\\Lib\\site-packages\\djitellopy\\enforce_types.py:54\u001b[0m, in \u001b[0;36menforce_types.<locals>.decorate.<locals>.wrapper\u001b[1;34m(*args, **kwargs)\u001b[0m\n\u001b[0;32m     51\u001b[0m \u001b[38;5;129m@wraps\u001b[39m(func)\n\u001b[0;32m     52\u001b[0m \u001b[38;5;28;01mdef\u001b[39;00m \u001b[38;5;21mwrapper\u001b[39m(\u001b[38;5;241m*\u001b[39margs, \u001b[38;5;241m*\u001b[39m\u001b[38;5;241m*\u001b[39mkwargs):\n\u001b[0;32m     53\u001b[0m     check_types(spec, \u001b[38;5;241m*\u001b[39margs, \u001b[38;5;241m*\u001b[39m\u001b[38;5;241m*\u001b[39mkwargs)\n\u001b[1;32m---> 54\u001b[0m     \u001b[38;5;28;01mreturn\u001b[39;00m func(\u001b[38;5;241m*\u001b[39margs, \u001b[38;5;241m*\u001b[39m\u001b[38;5;241m*\u001b[39mkwargs)\n",
      "File \u001b[1;32mc:\\Users\\marco\\anaconda3\\Lib\\site-packages\\djitellopy\\tello.py:421\u001b[0m, in \u001b[0;36mTello.get_frame_read\u001b[1;34m(self, with_queue, max_queue_len)\u001b[0m\n\u001b[0;32m    419\u001b[0m \u001b[38;5;28;01mif\u001b[39;00m \u001b[38;5;28mself\u001b[39m\u001b[38;5;241m.\u001b[39mbackground_frame_read \u001b[38;5;129;01mis\u001b[39;00m \u001b[38;5;28;01mNone\u001b[39;00m:\n\u001b[0;32m    420\u001b[0m     address \u001b[38;5;241m=\u001b[39m \u001b[38;5;28mself\u001b[39m\u001b[38;5;241m.\u001b[39mget_udp_video_address()\n\u001b[1;32m--> 421\u001b[0m     \u001b[38;5;28mself\u001b[39m\u001b[38;5;241m.\u001b[39mbackground_frame_read \u001b[38;5;241m=\u001b[39m BackgroundFrameRead(\u001b[38;5;28mself\u001b[39m, address, with_queue, max_queue_len)\n\u001b[0;32m    422\u001b[0m     \u001b[38;5;28mself\u001b[39m\u001b[38;5;241m.\u001b[39mbackground_frame_read\u001b[38;5;241m.\u001b[39mstart()\n\u001b[0;32m    423\u001b[0m \u001b[38;5;28;01mreturn\u001b[39;00m \u001b[38;5;28mself\u001b[39m\u001b[38;5;241m.\u001b[39mbackground_frame_read\n",
      "File \u001b[1;32mc:\\Users\\marco\\anaconda3\\Lib\\site-packages\\djitellopy\\tello.py:1049\u001b[0m, in \u001b[0;36mBackgroundFrameRead.__init__\u001b[1;34m(self, tello, address, with_queue, maxsize)\u001b[0m\n\u001b[0;32m   1047\u001b[0m \u001b[38;5;28;01mtry\u001b[39;00m:\n\u001b[0;32m   1048\u001b[0m     Tello\u001b[38;5;241m.\u001b[39mLOGGER\u001b[38;5;241m.\u001b[39mdebug(\u001b[38;5;124m'\u001b[39m\u001b[38;5;124mtrying to grab video frames...\u001b[39m\u001b[38;5;124m'\u001b[39m)\n\u001b[1;32m-> 1049\u001b[0m     \u001b[38;5;28mself\u001b[39m\u001b[38;5;241m.\u001b[39mcontainer \u001b[38;5;241m=\u001b[39m av\u001b[38;5;241m.\u001b[39mopen(\u001b[38;5;28mself\u001b[39m\u001b[38;5;241m.\u001b[39maddress, timeout\u001b[38;5;241m=\u001b[39m(Tello\u001b[38;5;241m.\u001b[39mFRAME_GRAB_TIMEOUT, \u001b[38;5;28;01mNone\u001b[39;00m))\n\u001b[0;32m   1050\u001b[0m \u001b[38;5;28;01mexcept\u001b[39;00m av\u001b[38;5;241m.\u001b[39merror\u001b[38;5;241m.\u001b[39mExitError:\n\u001b[0;32m   1051\u001b[0m     \u001b[38;5;28;01mraise\u001b[39;00m TelloException(\u001b[38;5;124m'\u001b[39m\u001b[38;5;124mFailed to grab video frames from video stream\u001b[39m\u001b[38;5;124m'\u001b[39m)\n",
      "File \u001b[1;32mav\\\\container\\\\core.pyx:420\u001b[0m, in \u001b[0;36mav.container.core.open\u001b[1;34m()\u001b[0m\n",
      "File \u001b[1;32mav\\\\container\\\\core.pyx:266\u001b[0m, in \u001b[0;36mav.container.core.Container.__cinit__\u001b[1;34m()\u001b[0m\n",
      "File \u001b[1;32mav\\\\container\\\\core.pyx:286\u001b[0m, in \u001b[0;36mav.container.core.Container.err_check\u001b[1;34m()\u001b[0m\n",
      "File \u001b[1;32mav\\\\error.pyx:326\u001b[0m, in \u001b[0;36mav.error.err_check\u001b[1;34m()\u001b[0m\n",
      "\u001b[1;31mOSError\u001b[0m: [Errno 10038] Error number -10038 occurred: 'udp://@0.0.0.0:11111'; last error log: [udp] bind failed: Error number -10048 occurred"
     ]
    },
    {
     "name": "stderr",
     "output_type": "stream",
     "text": [
      "error while decoding MB 10 40, bytestream -6\n",
      "error while decoding MB 6 41, bytestream -8\n",
      "left block unavailable for requested intra4x4 mode -1\n",
      "error while decoding MB 0 12, bytestream 3573\n",
      "left block unavailable for requested intra mode\n",
      "error while decoding MB 0 14, bytestream 2557\n",
      "error while decoding MB 10 39, bytestream -10\n"
     ]
    }
   ],
   "source": [
    "# Inicia o stream de vídeo\n",
    "tello.streamon()\n",
    "time.sleep(2)\n",
    "\n",
    "tello.takeoff()\n",
    "frame_read = tello.get_frame_read()\n",
    "\n",
    "while True:\n",
    "    tello.send_rc_control(0,0,0,0)\n",
    "\n",
    "    (r,g,b) = cv2.split(frame_read.frame)\n",
    "    img = cv2.merge([b,g,r])\n",
    "    # width, height, _ = img.shape\n",
    "    resized_img = cv2.resize(img, (480, 369))     \n",
    "    img = idYolo(resized_img, 369, 480)\n",
    "    \n",
    "    # img = cv2.resize(img,(640,480))\n",
    "                \n",
    "            \n",
    "    cv2.imshow(\"drone\", img)\n",
    "    if cv2.waitKey(1) & 0xff == 27:  # ESC\n",
    "        break\n",
    "    \n",
    "cv2.destroyAllWindows()\n",
    "tello.streamoff()\n",
    "tello.land()"
   ]
  },
  {
   "cell_type": "code",
   "execution_count": null,
   "metadata": {},
   "outputs": [
    {
     "name": "stderr",
     "output_type": "stream",
     "text": [
      "left block unavailable for requested intra4x4 mode -1\n",
      "error while decoding MB 0 17, bytestream 3760\n",
      "error while decoding MB 3 31, bytestream -6\n"
     ]
    }
   ],
   "source": [
    "cv2.destroyAllWindows()\n",
    "tello.land()\n",
    "tello.streamoff()"
   ]
  }
 ],
 "metadata": {
  "kernelspec": {
   "display_name": "base",
   "language": "python",
   "name": "python3"
  },
  "language_info": {
   "codemirror_mode": {
    "name": "ipython",
    "version": 3
   },
   "file_extension": ".py",
   "mimetype": "text/x-python",
   "name": "python",
   "nbconvert_exporter": "python",
   "pygments_lexer": "ipython3",
   "version": "3.11.7"
  }
 },
 "nbformat": 4,
 "nbformat_minor": 2
}
